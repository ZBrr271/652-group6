{
 "cells": [
  {
   "cell_type": "code",
   "execution_count": 1,
   "metadata": {},
   "outputs": [],
   "source": [
    "import requests\n",
    "import json\n",
    "\n",
    "API_URL = \"http://localhost:5001/\""
   ]
  },
  {
   "cell_type": "markdown",
   "metadata": {},
   "source": [
    "#### GET All Merged Track Data"
   ]
  },
  {
   "cell_type": "code",
   "execution_count": 8,
   "metadata": {},
   "outputs": [
    {
     "name": "stdout",
     "output_type": "stream",
     "text": [
      "First 5 rows of Merged Tracks Data:\n"
     ]
    },
    {
     "data": {
      "text/plain": [
       "[{'artist': 'rage against the machine',\n",
       "  'group6_id': '9c621326-b90e-5d77-bc9f-f4103a8353e1',\n",
       "  'mbid': '3a98b840-1e18-4ef1-80cd-85041534bf1b',\n",
       "  'song_name': 'guerrilla radio',\n",
       "  'top_artist': 'rage against the machine'},\n",
       " {'artist': 'aerosmith',\n",
       "  'group6_id': 'f5e2be0f-9065-5c10-8cbe-4cb9db7d2a4b',\n",
       "  'mbid': '48ade205-8866-49ab-aeee-1de90b25e688',\n",
       "  'song_name': 'crazy',\n",
       "  'top_artist': 'aerosmith'},\n",
       " {'artist': 'mazzy star',\n",
       "  'group6_id': '65888abd-ebd0-51cc-b507-57a0aebf47ec',\n",
       "  'mbid': '2fb9bc6b-d4da-497e-ad3f-fabf12fe72cf',\n",
       "  'song_name': 'fade into you',\n",
       "  'top_artist': 'mazzy star'},\n",
       " {'artist': 'adele',\n",
       "  'group6_id': 'a27266eb-0aca-5a43-a05f-da4ac926cb66',\n",
       "  'mbid': 'd1e0a99e-1894-457b-ba6a-985eeef4d0c4',\n",
       "  'song_name': 'set fire to the rain',\n",
       "  'top_artist': 'adele'},\n",
       " {'artist': 'bruno mars',\n",
       "  'group6_id': '6eb94713-4490-5203-ad08-ebb9fee902c6',\n",
       "  'mbid': 'c2da4b38-f61d-4488-8100-078d83a7df7d',\n",
       "  'song_name': 'just the way you are',\n",
       "  'top_artist': 'bruno mars'}]"
      ]
     },
     "execution_count": 8,
     "metadata": {},
     "output_type": "execute_result"
    }
   ],
   "source": [
    "response = requests.get(API_URL + \"merged-tracks-data\")\n",
    "\n",
    "print('First 5 rows of Merged Tracks Data:')\n",
    "response.json()[:5]"
   ]
  },
  {
   "cell_type": "markdown",
   "metadata": {},
   "source": [
    "#### GET All Concensus Data "
   ]
  },
  {
   "cell_type": "code",
   "execution_count": 7,
   "metadata": {},
   "outputs": [
    {
     "name": "stdout",
     "output_type": "stream",
     "text": [
      "First 5 rows of Cross-Platform Consensus Data:\n"
     ]
    },
    {
     "data": {
      "text/plain": [
       "[{'billboard_peak_position': 1,\n",
       "  'billboard_weeks_on_chart': 51,\n",
       "  'group6_id': 'e99b3b64-c8c4-59f5-801f-25cd869b4a0b',\n",
       "  'lastfm_listeners': 2910213,\n",
       "  'lastfm_playcount': 30518386,\n",
       "  'lastfm_tags': {'alternative': 7,\n",
       "   'alternative rock': 7,\n",
       "   'indie': 5,\n",
       "   'pop': 3,\n",
       "   'rock': 7},\n",
       "  'spotify_artist': 'coldplay',\n",
       "  'spotify_popularity': 90,\n",
       "  'track_name': 'viva la vida'},\n",
       " {'billboard_peak_position': 1,\n",
       "  'billboard_weeks_on_chart': 21,\n",
       "  'group6_id': '0c3422df-58cb-5649-9539-d81de1bc46ff',\n",
       "  'lastfm_listeners': 1858081,\n",
       "  'lastfm_playcount': 14850401,\n",
       "  'lastfm_tags': {'classic rock': 8, 'pop': 58, 'rock': 81},\n",
       "  'spotify_artist': 'toto',\n",
       "  'spotify_popularity': 89,\n",
       "  'track_name': 'africa'},\n",
       " {'billboard_peak_position': 1,\n",
       "  'billboard_weeks_on_chart': 24,\n",
       "  'group6_id': '4b29c73c-00e4-517e-9c1d-d3c803894822',\n",
       "  'lastfm_listeners': 2267914,\n",
       "  'lastfm_playcount': 24069692,\n",
       "  'lastfm_tags': {'pop': 18, 'rock': 28},\n",
       "  'spotify_artist': 'tears for fears',\n",
       "  'spotify_popularity': 89,\n",
       "  'track_name': 'everybody wants to rule the world'},\n",
       " {'billboard_peak_position': 1,\n",
       "  'billboard_weeks_on_chart': 48,\n",
       "  'group6_id': '6eb94713-4490-5203-ad08-ebb9fee902c6',\n",
       "  'lastfm_listeners': 1791364,\n",
       "  'lastfm_playcount': 14690654,\n",
       "  'lastfm_tags': {'pop': 69},\n",
       "  'spotify_artist': 'bruno mars',\n",
       "  'spotify_popularity': 89,\n",
       "  'track_name': 'just the way you are'},\n",
       " {'billboard_peak_position': 1,\n",
       "  'billboard_weeks_on_chart': 27,\n",
       "  'group6_id': '1d270121-6d5c-5bb1-bc75-eee0733f181d',\n",
       "  'lastfm_listeners': 2401038,\n",
       "  'lastfm_playcount': 18991428,\n",
       "  'lastfm_tags': {'pop': 13},\n",
       "  'spotify_artist': 'a-ha',\n",
       "  'spotify_popularity': 88,\n",
       "  'track_name': 'take on me'}]"
      ]
     },
     "execution_count": 7,
     "metadata": {},
     "output_type": "execute_result"
    }
   ],
   "source": [
    "response = requests.get(API_URL + \"cross-platform-consensus-data\")\n",
    "\n",
    "print('First 5 rows of Cross-Platform Consensus Data:')\n",
    "response.json()[:5]"
   ]
  },
  {
   "cell_type": "markdown",
   "metadata": {},
   "source": [
    "#### POST Filtered Merged Track Data Using Artist"
   ]
  },
  {
   "cell_type": "code",
   "execution_count": 19,
   "metadata": {},
   "outputs": [
    {
     "name": "stdout",
     "output_type": "stream",
     "text": [
      "First 5 rows of Merged Tracks Data filtered by artist = green day\n"
     ]
    },
    {
     "data": {
      "text/plain": [
       "[{'artist': 'rihanna',\n",
       "  'group6_id': '3f6912a0-589c-5679-9794-97c8ce04f4b4',\n",
       "  'mbid': '0b4b1b0c-e057-4d8d-9a47-12a97ff6fb3d',\n",
       "  'song_name': 'umbrella',\n",
       "  'top_artist': 'rihanna'},\n",
       " {'artist': 'rihanna',\n",
       "  'group6_id': '53e08d70-7f8b-5060-8888-a963d4f761ae',\n",
       "  'mbid': '1bd93bdf-8f54-489d-be5b-98d85c160b5c',\n",
       "  'song_name': 'disturbia',\n",
       "  'top_artist': 'rihanna'},\n",
       " {'artist': 'rihanna',\n",
       "  'group6_id': '873b7a32-b4d5-59f8-b00a-446695d1f705',\n",
       "  'mbid': '6cf1ce5a-40a5-4b40-8bab-6d998de8a7c0',\n",
       "  'song_name': 'sos',\n",
       "  'top_artist': 'rihanna'},\n",
       " {'artist': 'rihanna',\n",
       "  'group6_id': 'cc5ddc74-cb8e-5ee6-b90b-fbcbeb8cf56c',\n",
       "  'mbid': '5a5056f9-1bec-426e-bc39-2ba1d22bb13b',\n",
       "  'song_name': 's&m',\n",
       "  'top_artist': 'rihanna'},\n",
       " {'artist': 'rihanna',\n",
       "  'group6_id': 'd43d3adc-1b8d-5df7-8334-107411b4b226',\n",
       "  'mbid': '132b162a-23a7-4497-ade1-4831de82d7b6',\n",
       "  'song_name': 'we found love',\n",
       "  'top_artist': 'rihanna'},\n",
       " {'artist': 'rihanna',\n",
       "  'group6_id': 'da566b88-c93d-5ed3-abfd-0b9f517218ca',\n",
       "  'mbid': 'e6d894a9-8593-4b90-966a-9ce743365c3e',\n",
       "  'song_name': 'only girl (in the world)',\n",
       "  'top_artist': 'rihanna'},\n",
       " {'artist': 'rihanna',\n",
       "  'group6_id': 'f9d6a980-abbe-51ef-8815-e874e49ec43f',\n",
       "  'mbid': '3d3ef666-880f-4dd8-b17f-4e58a7b35c4c',\n",
       "  'song_name': 'rude boy',\n",
       "  'top_artist': 'rihanna'}]"
      ]
     },
     "execution_count": 19,
     "metadata": {},
     "output_type": "execute_result"
    }
   ],
   "source": [
    "response = requests.post(API_URL + \"merged-tracks-data\", data={\"artist_name\": \"Rihanna\"})\n",
    "\n",
    "print('First 5 rows of Merged Tracks Data filtered by artist = green day')\n",
    "response.json()"
   ]
  },
  {
   "cell_type": "markdown",
   "metadata": {},
   "source": [
    "#### POST Filtered Concensus Data Using Artist"
   ]
  },
  {
   "cell_type": "code",
   "execution_count": 24,
   "metadata": {},
   "outputs": [
    {
     "name": "stdout",
     "output_type": "stream",
     "text": [
      "First 5 rows of Cross-Platform Consensus Data:\n"
     ]
    },
    {
     "data": {
      "text/plain": [
       "[{'billboard_peak_position': 1,\n",
       "  'billboard_weeks_on_chart': 34,\n",
       "  'group6_id': '3f6912a0-589c-5679-9794-97c8ce04f4b4',\n",
       "  'lastfm_listeners': 2123167,\n",
       "  'lastfm_playcount': 15030380,\n",
       "  'lastfm_tags': {'Hip-Hop': 6, 'female vocalists': 12, 'pop': 28},\n",
       "  'spotify_artist': 'rihanna',\n",
       "  'spotify_popularity': 85,\n",
       "  'track_name': 'umbrella'},\n",
       " {'billboard_peak_position': 1,\n",
       "  'billboard_weeks_on_chart': 42,\n",
       "  'group6_id': 'd43d3adc-1b8d-5df7-8334-107411b4b226',\n",
       "  'lastfm_listeners': 1099745,\n",
       "  'lastfm_playcount': 8101953,\n",
       "  'lastfm_tags': {'electronic': 146, 'female vocalists': 187},\n",
       "  'spotify_artist': 'rihanna',\n",
       "  'spotify_popularity': 85,\n",
       "  'track_name': 'we found love'},\n",
       " {'billboard_peak_position': 1,\n",
       "  'billboard_weeks_on_chart': 37,\n",
       "  'group6_id': '53e08d70-7f8b-5060-8888-a963d4f761ae',\n",
       "  'lastfm_listeners': 1666751,\n",
       "  'lastfm_playcount': 12407224,\n",
       "  'lastfm_tags': {'female vocalists': 44, 'pop': 98},\n",
       "  'spotify_artist': 'rihanna',\n",
       "  'spotify_popularity': 82,\n",
       "  'track_name': 'disturbia'},\n",
       " {'billboard_peak_position': 1,\n",
       "  'billboard_weeks_on_chart': 28,\n",
       "  'group6_id': '873b7a32-b4d5-59f8-b00a-446695d1f705',\n",
       "  'lastfm_listeners': 1036011,\n",
       "  'lastfm_playcount': 6684720,\n",
       "  'lastfm_tags': {'Hip-Hop': 169, 'female vocalists': 220},\n",
       "  'spotify_artist': 'rihanna',\n",
       "  'spotify_popularity': 81,\n",
       "  'track_name': 'sos'},\n",
       " {'billboard_peak_position': 1,\n",
       "  'billboard_weeks_on_chart': 22,\n",
       "  'group6_id': 'f9d6a980-abbe-51ef-8815-e874e49ec43f',\n",
       "  'lastfm_listeners': 1469570,\n",
       "  'lastfm_playcount': 10329756,\n",
       "  'lastfm_tags': {'Hip-Hop': 51, 'female vocalists': 63, 'pop': 151},\n",
       "  'spotify_artist': 'rihanna',\n",
       "  'spotify_popularity': 80,\n",
       "  'track_name': 'rude boy'}]"
      ]
     },
     "execution_count": 24,
     "metadata": {},
     "output_type": "execute_result"
    }
   ],
   "source": [
    "response = requests.post(API_URL + \"cross-platform-consensus-data\", data={\"artist_name\": \"Rihanna\"})\n",
    "\n",
    "print('First 5 rows of Cross-Platform Consensus Data:')\n",
    "response.json()[:5]"
   ]
  }
 ],
 "metadata": {
  "kernelspec": {
   "display_name": "Python 3",
   "language": "python",
   "name": "python3"
  },
  "language_info": {
   "codemirror_mode": {
    "name": "ipython",
    "version": 3
   },
   "file_extension": ".py",
   "mimetype": "text/x-python",
   "name": "python",
   "nbconvert_exporter": "python",
   "pygments_lexer": "ipython3",
   "version": "3.11.5"
  }
 },
 "nbformat": 4,
 "nbformat_minor": 2
}
