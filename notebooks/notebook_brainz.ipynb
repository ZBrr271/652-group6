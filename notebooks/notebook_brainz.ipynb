{
 "cells": [
  {
   "cell_type": "code",
   "execution_count": 56,
   "metadata": {},
   "outputs": [],
   "source": [
    "import os\n",
    "from dotenv import load_dotenv\n",
    "import pandas as pd\n",
    "import requests\n",
    "import time\n",
    "from itertools import islice\n",
    "from tqdm import tqdm\n",
    "import json\n",
    "load_dotenv()\n",
    "\n",
    "BASE_URL_AB = 'https://acousticbrainz.org'\n",
    "BASE_URL_MB = 'https://musicbrainz.org/ws/2'\n",
    "lastfm_tracks = pd.read_csv('data/lastfm/tracks_df.csv')\n",
    "lastfm_tracks_mbids = lastfm_tracks['mbid'].unique()\n",
    "\n",
    "# Rate limit of 1 request per second is advised by the website"
   ]
  },
  {
   "cell_type": "code",
   "execution_count": 11,
   "metadata": {},
   "outputs": [
    {
     "name": "stderr",
     "output_type": "stream",
     "text": [
      "Processing batches: 100%|██████████| 181/181 [04:56<00:00,  1.64s/it]\n"
     ]
    }
   ],
   "source": [
    "endpoint = f\"{BASE_URL_AB}/api/v1/high-level\"\n",
    "\n",
    "ab_data = {}\n",
    "\n",
    "batch_size = 25\n",
    "for i in tqdm(range(0, len(lastfm_tracks_mbids), batch_size), desc=\"Processing batches\"):\n",
    "    batch = lastfm_tracks_mbids[i:i + batch_size]\n",
    "    params = {\n",
    "        'recording_ids': ';'.join(batch),\n",
    "    }\n",
    "\n",
    "    response = requests.get(endpoint, params=params)\n",
    "    ab_data.update(response.json())\n",
    "\n"
   ]
  },
  {
   "cell_type": "code",
   "execution_count": 13,
   "metadata": {},
   "outputs": [],
   "source": [
    "with open('data/brainz/ab_data_raw.json', 'w') as f:\n",
    "    json.dump(ab_data, f)"
   ]
  },
  {
   "cell_type": "code",
   "execution_count": 40,
   "metadata": {},
   "outputs": [],
   "source": [
    "lookups = ';'.join(list(ab_data.keys())[:10])"
   ]
  },
  {
   "cell_type": "code",
   "execution_count": 79,
   "metadata": {},
   "outputs": [],
   "source": [
    "\n",
    "mb_endpoint = f\"https://musicbrainz.org/ws/2/recording/\"\n",
    "params = {\n",
    "        \"query\": f\"mbid:{mbid_query}\",\n",
    "        \"fmt\": \"json\"\n",
    "    }\n",
    "headers = {\"User-Agent\": \"MyMusicApp/1.0 (your-email@example.com)\"}\n",
    "    \n",
    "response = requests.get(mb_endpoint, params=params,headers=headers)"
   ]
  },
  {
   "cell_type": "code",
   "execution_count": 142,
   "metadata": {},
   "outputs": [
    {
     "name": "stderr",
     "output_type": "stream",
     "text": [
      "Processing MBIDs: 100%|██████████| 177/177 [03:36<00:00,  1.22s/it]\n"
     ]
    }
   ],
   "source": [
    "endpoint = f\"{BASE_URL_MB}/recording/\"\n",
    "\n",
    "mb_data = []\n",
    "\n",
    "# Process in batches to avoid too large requests\n",
    "batch_size = 25  # MusicBrainz typically has limits on request sizes\n",
    "for i in tqdm(range(0, len(list(ab_data.keys())), batch_size), desc=\"Processing MBIDs\"):\n",
    "    batch = list(ab_data.keys())[i:i + batch_size]\n",
    "    \n",
    "    # Join MBIDs with OR operator\n",
    "    mbid_query = \" OR \".join([f\"mbid:{mbid}\" for mbid in batch])\n",
    "    \n",
    "    params = {\n",
    "        \"query\": mbid_query,\n",
    "        \"fmt\": \"json\"\n",
    "    }\n",
    "\n",
    "    headers = {\"User-Agent\": \"JHU-Project/1.0 (spalit2@jh.edu)\"}\n",
    "\n",
    "    response = requests.get(endpoint, params=params, headers=headers)\n",
    "\n",
    "    mb_data.extend(response.json()['recordings'])\n",
    "\n",
    "    time.sleep(0.3)\n"
   ]
  },
  {
   "cell_type": "code",
   "execution_count": 153,
   "metadata": {},
   "outputs": [],
   "source": [
    "mb_df = pd.DataFrame(mb_data)\n",
    "mb_df.to_csv('data/brainz/mb_data.csv', index=False)"
   ]
  },
  {
   "cell_type": "code",
   "execution_count": 152,
   "metadata": {},
   "outputs": [
    {
     "data": {
      "text/plain": [
       "2457"
      ]
     },
     "execution_count": 152,
     "metadata": {},
     "output_type": "execute_result"
    }
   ],
   "source": [
    "len(mb_df[mb_df['isrcs'].notna()])"
   ]
  },
  {
   "cell_type": "code",
   "execution_count": null,
   "metadata": {},
   "outputs": [],
   "source": []
  }
 ],
 "metadata": {
  "kernelspec": {
   "display_name": "Python 3",
   "language": "python",
   "name": "python3"
  },
  "language_info": {
   "codemirror_mode": {
    "name": "ipython",
    "version": 3
   },
   "file_extension": ".py",
   "mimetype": "text/x-python",
   "name": "python",
   "nbconvert_exporter": "python",
   "pygments_lexer": "ipython3",
   "version": "3.11.5"
  }
 },
 "nbformat": 4,
 "nbformat_minor": 2
}
